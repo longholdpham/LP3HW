{
 "cells": [
  {
   "cell_type": "code",
   "execution_count": 3,
   "id": "5fbfc292-2c79-434f-a19d-49ff9e986231",
   "metadata": {},
   "outputs": [
    {
     "name": "stdout",
     "output_type": "stream",
     "text": [
      "Hello World\n",
      "Hello Again\n",
      "I like typing this.\n",
      "Zerebro\n"
     ]
    }
   ],
   "source": [
    "print(\"Hello World\")\n",
    "print(\"Hello Again\")\n",
    "print(\"I like typing this.\")\n",
    "print(\"Zerebro\")"
   ]
  },
  {
   "cell_type": "code",
   "execution_count": 5,
   "id": "03795670-e97f-4b65-a892-b3eff7cfda14",
   "metadata": {},
   "outputs": [
    {
     "name": "stdout",
     "output_type": "stream",
     "text": [
      "Hello World\n",
      "Hello Again\n",
      "I like typing this.\n"
     ]
    }
   ],
   "source": [
    "%run untitled.py"
   ]
  },
  {
   "cell_type": "code",
   "execution_count": null,
   "id": "6f0c1558-b3ba-4605-adad-7fa159c53423",
   "metadata": {},
   "outputs": [],
   "source": []
  }
 ],
 "metadata": {
  "kernelspec": {
   "display_name": "Python 3 (ipykernel)",
   "language": "python",
   "name": "python3"
  },
  "language_info": {
   "codemirror_mode": {
    "name": "ipython",
    "version": 3
   },
   "file_extension": ".py",
   "mimetype": "text/x-python",
   "name": "python",
   "nbconvert_exporter": "python",
   "pygments_lexer": "ipython3",
   "version": "3.12.7"
  }
 },
 "nbformat": 4,
 "nbformat_minor": 5
}
