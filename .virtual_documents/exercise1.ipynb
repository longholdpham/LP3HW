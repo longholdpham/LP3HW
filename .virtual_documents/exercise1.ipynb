print("Hello World")
print("Hello Again")
print("I like typing this.")
print("Zerebro")


%run untitled.py



