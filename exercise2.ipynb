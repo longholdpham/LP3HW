{
 "cells": [
  {
   "cell_type": "code",
   "execution_count": 3,
   "id": "f03d7bdd-a3a5-4106-990a-eb1c9e42156b",
   "metadata": {},
   "outputs": [
    {
     "name": "stdout",
     "output_type": "stream",
     "text": [
      "I could have code like this.\n",
      "But this line will run.\n"
     ]
    }
   ],
   "source": [
    "# A comment, this is so you can read your program later/\n",
    "# Anything after the # is ignored by python\n",
    "\n",
    "print(\"I could have code like this.\") # and the comment after is ignored\n",
    "\n",
    "# You can also use a comment to \"disable\" or comment ou code:\n",
    "# print(\"For example, this line won't run.\")\n",
    "\n",
    "print(\"But this line will run.\")"
   ]
  },
  {
   "cell_type": "code",
   "execution_count": 4,
   "id": "17cbadc2-31d8-46f1-93ac-093e71189119",
   "metadata": {},
   "outputs": [
    {
     "name": "stdout",
     "output_type": "stream",
     "text": [
      "I could have code like this.\n",
      "But this line will run.\n"
     ]
    }
   ],
   "source": [
    "%run exercise2.py"
   ]
  },
  {
   "cell_type": "code",
   "execution_count": null,
   "id": "19044d4c-3b40-47bf-bab2-b6b0e2dee889",
   "metadata": {},
   "outputs": [],
   "source": []
  }
 ],
 "metadata": {
  "kernelspec": {
   "display_name": "Python 3 (ipykernel)",
   "language": "python",
   "name": "python3"
  },
  "language_info": {
   "codemirror_mode": {
    "name": "ipython",
    "version": 3
   },
   "file_extension": ".py",
   "mimetype": "text/x-python",
   "name": "python",
   "nbconvert_exporter": "python",
   "pygments_lexer": "ipython3",
   "version": "3.12.7"
  }
 },
 "nbformat": 4,
 "nbformat_minor": 5
}
